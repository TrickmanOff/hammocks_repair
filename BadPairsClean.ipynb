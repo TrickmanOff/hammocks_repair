{
  "nbformat": 4,
  "nbformat_minor": 0,
  "metadata": {
    "colab": {
      "name": "BadPairsClean.ipynb",
      "provenance": [],
      "collapsed_sections": [
        "KTORhLSiJu7g",
        "PQxPPNSUKso1",
        "Nvn_1UjTL79D"
      ]
    },
    "kernelspec": {
      "name": "python3",
      "display_name": "Python 3"
    },
    "language_info": {
      "name": "python"
    },
    "widgets": {
      "application/vnd.jupyter.widget-state+json": {
        "3857a653b5b54542a40e252835cff040": {
          "model_module": "@jupyter-widgets/controls",
          "model_name": "HBoxModel",
          "model_module_version": "1.5.0",
          "state": {
            "_view_name": "HBoxView",
            "_dom_classes": [],
            "_model_name": "HBoxModel",
            "_view_module": "@jupyter-widgets/controls",
            "_model_module_version": "1.5.0",
            "_view_count": null,
            "_view_module_version": "1.5.0",
            "box_style": "",
            "layout": "IPY_MODEL_32e82109bda44e9db0330b6808d5a75c",
            "_model_module": "@jupyter-widgets/controls",
            "children": [
              "IPY_MODEL_3f1d1812138242f49a2bb5bb4c46cc96",
              "IPY_MODEL_8b5c25cf536f418bad5913cac311a5ab",
              "IPY_MODEL_13c7a67ab5a54ce3af4df50be7e56aa0"
            ]
          }
        },
        "32e82109bda44e9db0330b6808d5a75c": {
          "model_module": "@jupyter-widgets/base",
          "model_name": "LayoutModel",
          "model_module_version": "1.2.0",
          "state": {
            "_view_name": "LayoutView",
            "grid_template_rows": null,
            "right": null,
            "justify_content": null,
            "_view_module": "@jupyter-widgets/base",
            "overflow": null,
            "_model_module_version": "1.2.0",
            "_view_count": null,
            "flex_flow": null,
            "width": null,
            "min_width": null,
            "border": null,
            "align_items": null,
            "bottom": null,
            "_model_module": "@jupyter-widgets/base",
            "top": null,
            "grid_column": null,
            "overflow_y": null,
            "overflow_x": null,
            "grid_auto_flow": null,
            "grid_area": null,
            "grid_template_columns": null,
            "flex": null,
            "_model_name": "LayoutModel",
            "justify_items": null,
            "grid_row": null,
            "max_height": null,
            "align_content": null,
            "visibility": null,
            "align_self": null,
            "height": null,
            "min_height": null,
            "padding": null,
            "grid_auto_rows": null,
            "grid_gap": null,
            "max_width": null,
            "order": null,
            "_view_module_version": "1.2.0",
            "grid_template_areas": null,
            "object_position": null,
            "object_fit": null,
            "grid_auto_columns": null,
            "margin": null,
            "display": null,
            "left": null
          }
        },
        "3f1d1812138242f49a2bb5bb4c46cc96": {
          "model_module": "@jupyter-widgets/controls",
          "model_name": "HTMLModel",
          "model_module_version": "1.5.0",
          "state": {
            "_view_name": "HTMLView",
            "style": "IPY_MODEL_581c9a1b888242b1a858346a1f58ecaf",
            "_dom_classes": [],
            "description": "",
            "_model_name": "HTMLModel",
            "placeholder": "​",
            "_view_module": "@jupyter-widgets/controls",
            "_model_module_version": "1.5.0",
            "value": "parsing log, completed traces :: 100%",
            "_view_count": null,
            "_view_module_version": "1.5.0",
            "description_tooltip": null,
            "_model_module": "@jupyter-widgets/controls",
            "layout": "IPY_MODEL_e0bfd7a30c824a9e8903ea4e45efb057"
          }
        },
        "8b5c25cf536f418bad5913cac311a5ab": {
          "model_module": "@jupyter-widgets/controls",
          "model_name": "FloatProgressModel",
          "model_module_version": "1.5.0",
          "state": {
            "_view_name": "ProgressView",
            "style": "IPY_MODEL_11f9daaf7ce64eeebb00e4594c0d6aae",
            "_dom_classes": [],
            "description": "",
            "_model_name": "FloatProgressModel",
            "bar_style": "success",
            "max": 1104,
            "_view_module": "@jupyter-widgets/controls",
            "_model_module_version": "1.5.0",
            "value": 1104,
            "_view_count": null,
            "_view_module_version": "1.5.0",
            "orientation": "horizontal",
            "min": 0,
            "description_tooltip": null,
            "_model_module": "@jupyter-widgets/controls",
            "layout": "IPY_MODEL_8218ba2ad82541bc839edcca6fc98027"
          }
        },
        "13c7a67ab5a54ce3af4df50be7e56aa0": {
          "model_module": "@jupyter-widgets/controls",
          "model_name": "HTMLModel",
          "model_module_version": "1.5.0",
          "state": {
            "_view_name": "HTMLView",
            "style": "IPY_MODEL_5f366255061949068143ff5fed01ed5a",
            "_dom_classes": [],
            "description": "",
            "_model_name": "HTMLModel",
            "placeholder": "​",
            "_view_module": "@jupyter-widgets/controls",
            "_model_module_version": "1.5.0",
            "value": " 1104/1104 [00:00&lt;00:00, 1311.34it/s]",
            "_view_count": null,
            "_view_module_version": "1.5.0",
            "description_tooltip": null,
            "_model_module": "@jupyter-widgets/controls",
            "layout": "IPY_MODEL_ec4de79ca1914e188262b2806b021d5e"
          }
        },
        "581c9a1b888242b1a858346a1f58ecaf": {
          "model_module": "@jupyter-widgets/controls",
          "model_name": "DescriptionStyleModel",
          "model_module_version": "1.5.0",
          "state": {
            "_view_name": "StyleView",
            "_model_name": "DescriptionStyleModel",
            "description_width": "",
            "_view_module": "@jupyter-widgets/base",
            "_model_module_version": "1.5.0",
            "_view_count": null,
            "_view_module_version": "1.2.0",
            "_model_module": "@jupyter-widgets/controls"
          }
        },
        "e0bfd7a30c824a9e8903ea4e45efb057": {
          "model_module": "@jupyter-widgets/base",
          "model_name": "LayoutModel",
          "model_module_version": "1.2.0",
          "state": {
            "_view_name": "LayoutView",
            "grid_template_rows": null,
            "right": null,
            "justify_content": null,
            "_view_module": "@jupyter-widgets/base",
            "overflow": null,
            "_model_module_version": "1.2.0",
            "_view_count": null,
            "flex_flow": null,
            "width": null,
            "min_width": null,
            "border": null,
            "align_items": null,
            "bottom": null,
            "_model_module": "@jupyter-widgets/base",
            "top": null,
            "grid_column": null,
            "overflow_y": null,
            "overflow_x": null,
            "grid_auto_flow": null,
            "grid_area": null,
            "grid_template_columns": null,
            "flex": null,
            "_model_name": "LayoutModel",
            "justify_items": null,
            "grid_row": null,
            "max_height": null,
            "align_content": null,
            "visibility": null,
            "align_self": null,
            "height": null,
            "min_height": null,
            "padding": null,
            "grid_auto_rows": null,
            "grid_gap": null,
            "max_width": null,
            "order": null,
            "_view_module_version": "1.2.0",
            "grid_template_areas": null,
            "object_position": null,
            "object_fit": null,
            "grid_auto_columns": null,
            "margin": null,
            "display": null,
            "left": null
          }
        },
        "11f9daaf7ce64eeebb00e4594c0d6aae": {
          "model_module": "@jupyter-widgets/controls",
          "model_name": "ProgressStyleModel",
          "model_module_version": "1.5.0",
          "state": {
            "_view_name": "StyleView",
            "_model_name": "ProgressStyleModel",
            "description_width": "",
            "_view_module": "@jupyter-widgets/base",
            "_model_module_version": "1.5.0",
            "_view_count": null,
            "_view_module_version": "1.2.0",
            "bar_color": null,
            "_model_module": "@jupyter-widgets/controls"
          }
        },
        "8218ba2ad82541bc839edcca6fc98027": {
          "model_module": "@jupyter-widgets/base",
          "model_name": "LayoutModel",
          "model_module_version": "1.2.0",
          "state": {
            "_view_name": "LayoutView",
            "grid_template_rows": null,
            "right": null,
            "justify_content": null,
            "_view_module": "@jupyter-widgets/base",
            "overflow": null,
            "_model_module_version": "1.2.0",
            "_view_count": null,
            "flex_flow": null,
            "width": null,
            "min_width": null,
            "border": null,
            "align_items": null,
            "bottom": null,
            "_model_module": "@jupyter-widgets/base",
            "top": null,
            "grid_column": null,
            "overflow_y": null,
            "overflow_x": null,
            "grid_auto_flow": null,
            "grid_area": null,
            "grid_template_columns": null,
            "flex": null,
            "_model_name": "LayoutModel",
            "justify_items": null,
            "grid_row": null,
            "max_height": null,
            "align_content": null,
            "visibility": null,
            "align_self": null,
            "height": null,
            "min_height": null,
            "padding": null,
            "grid_auto_rows": null,
            "grid_gap": null,
            "max_width": null,
            "order": null,
            "_view_module_version": "1.2.0",
            "grid_template_areas": null,
            "object_position": null,
            "object_fit": null,
            "grid_auto_columns": null,
            "margin": null,
            "display": null,
            "left": null
          }
        },
        "5f366255061949068143ff5fed01ed5a": {
          "model_module": "@jupyter-widgets/controls",
          "model_name": "DescriptionStyleModel",
          "model_module_version": "1.5.0",
          "state": {
            "_view_name": "StyleView",
            "_model_name": "DescriptionStyleModel",
            "description_width": "",
            "_view_module": "@jupyter-widgets/base",
            "_model_module_version": "1.5.0",
            "_view_count": null,
            "_view_module_version": "1.2.0",
            "_model_module": "@jupyter-widgets/controls"
          }
        },
        "ec4de79ca1914e188262b2806b021d5e": {
          "model_module": "@jupyter-widgets/base",
          "model_name": "LayoutModel",
          "model_module_version": "1.2.0",
          "state": {
            "_view_name": "LayoutView",
            "grid_template_rows": null,
            "right": null,
            "justify_content": null,
            "_view_module": "@jupyter-widgets/base",
            "overflow": null,
            "_model_module_version": "1.2.0",
            "_view_count": null,
            "flex_flow": null,
            "width": null,
            "min_width": null,
            "border": null,
            "align_items": null,
            "bottom": null,
            "_model_module": "@jupyter-widgets/base",
            "top": null,
            "grid_column": null,
            "overflow_y": null,
            "overflow_x": null,
            "grid_auto_flow": null,
            "grid_area": null,
            "grid_template_columns": null,
            "flex": null,
            "_model_name": "LayoutModel",
            "justify_items": null,
            "grid_row": null,
            "max_height": null,
            "align_content": null,
            "visibility": null,
            "align_self": null,
            "height": null,
            "min_height": null,
            "padding": null,
            "grid_auto_rows": null,
            "grid_gap": null,
            "max_width": null,
            "order": null,
            "_view_module_version": "1.2.0",
            "grid_template_areas": null,
            "object_position": null,
            "object_fit": null,
            "grid_auto_columns": null,
            "margin": null,
            "display": null,
            "left": null
          }
        },
        "85fb3b0b896445f7b67923e7ef5e9b5e": {
          "model_module": "@jupyter-widgets/controls",
          "model_name": "HBoxModel",
          "model_module_version": "1.5.0",
          "state": {
            "_view_name": "HBoxView",
            "_dom_classes": [],
            "_model_name": "HBoxModel",
            "_view_module": "@jupyter-widgets/controls",
            "_model_module_version": "1.5.0",
            "_view_count": null,
            "_view_module_version": "1.5.0",
            "box_style": "",
            "layout": "IPY_MODEL_239720e6c01942a3baa1aea3347fc7ad",
            "_model_module": "@jupyter-widgets/controls",
            "children": [
              "IPY_MODEL_211f8bed36844671ae23eb47a157ee7f",
              "IPY_MODEL_ba7b47a2d6a54e73a59b33021ebc8218",
              "IPY_MODEL_676bbab810e14fa799d3a0524b933495"
            ]
          }
        },
        "239720e6c01942a3baa1aea3347fc7ad": {
          "model_module": "@jupyter-widgets/base",
          "model_name": "LayoutModel",
          "model_module_version": "1.2.0",
          "state": {
            "_view_name": "LayoutView",
            "grid_template_rows": null,
            "right": null,
            "justify_content": null,
            "_view_module": "@jupyter-widgets/base",
            "overflow": null,
            "_model_module_version": "1.2.0",
            "_view_count": null,
            "flex_flow": null,
            "width": null,
            "min_width": null,
            "border": null,
            "align_items": null,
            "bottom": null,
            "_model_module": "@jupyter-widgets/base",
            "top": null,
            "grid_column": null,
            "overflow_y": null,
            "overflow_x": null,
            "grid_auto_flow": null,
            "grid_area": null,
            "grid_template_columns": null,
            "flex": null,
            "_model_name": "LayoutModel",
            "justify_items": null,
            "grid_row": null,
            "max_height": null,
            "align_content": null,
            "visibility": null,
            "align_self": null,
            "height": null,
            "min_height": null,
            "padding": null,
            "grid_auto_rows": null,
            "grid_gap": null,
            "max_width": null,
            "order": null,
            "_view_module_version": "1.2.0",
            "grid_template_areas": null,
            "object_position": null,
            "object_fit": null,
            "grid_auto_columns": null,
            "margin": null,
            "display": null,
            "left": null
          }
        },
        "211f8bed36844671ae23eb47a157ee7f": {
          "model_module": "@jupyter-widgets/controls",
          "model_name": "HTMLModel",
          "model_module_version": "1.5.0",
          "state": {
            "_view_name": "HTMLView",
            "style": "IPY_MODEL_5fa18f4568a54a66930f59843e3ea011",
            "_dom_classes": [],
            "description": "",
            "_model_name": "HTMLModel",
            "placeholder": "​",
            "_view_module": "@jupyter-widgets/controls",
            "_model_module_version": "1.5.0",
            "value": "aligning log, completed variants :: 100%",
            "_view_count": null,
            "_view_module_version": "1.5.0",
            "description_tooltip": null,
            "_model_module": "@jupyter-widgets/controls",
            "layout": "IPY_MODEL_8b02013aaa894c0ea203cced61e3705a"
          }
        },
        "ba7b47a2d6a54e73a59b33021ebc8218": {
          "model_module": "@jupyter-widgets/controls",
          "model_name": "FloatProgressModel",
          "model_module_version": "1.5.0",
          "state": {
            "_view_name": "ProgressView",
            "style": "IPY_MODEL_6a01b22bf72f42f4af77db9be96592dd",
            "_dom_classes": [],
            "description": "",
            "_model_name": "FloatProgressModel",
            "bar_style": "success",
            "max": 77,
            "_view_module": "@jupyter-widgets/controls",
            "_model_module_version": "1.5.0",
            "value": 77,
            "_view_count": null,
            "_view_module_version": "1.5.0",
            "orientation": "horizontal",
            "min": 0,
            "description_tooltip": null,
            "_model_module": "@jupyter-widgets/controls",
            "layout": "IPY_MODEL_a5f8e4cbacca4559a930397a4c9d702a"
          }
        },
        "676bbab810e14fa799d3a0524b933495": {
          "model_module": "@jupyter-widgets/controls",
          "model_name": "HTMLModel",
          "model_module_version": "1.5.0",
          "state": {
            "_view_name": "HTMLView",
            "style": "IPY_MODEL_459d1354cce24c5f99c31da701b22cf1",
            "_dom_classes": [],
            "description": "",
            "_model_name": "HTMLModel",
            "placeholder": "​",
            "_view_module": "@jupyter-widgets/controls",
            "_model_module_version": "1.5.0",
            "value": " 77/77 [00:02&lt;00:00, 32.84it/s]",
            "_view_count": null,
            "_view_module_version": "1.5.0",
            "description_tooltip": null,
            "_model_module": "@jupyter-widgets/controls",
            "layout": "IPY_MODEL_439c01ad5bde4209870341dab8f93ef4"
          }
        },
        "5fa18f4568a54a66930f59843e3ea011": {
          "model_module": "@jupyter-widgets/controls",
          "model_name": "DescriptionStyleModel",
          "model_module_version": "1.5.0",
          "state": {
            "_view_name": "StyleView",
            "_model_name": "DescriptionStyleModel",
            "description_width": "",
            "_view_module": "@jupyter-widgets/base",
            "_model_module_version": "1.5.0",
            "_view_count": null,
            "_view_module_version": "1.2.0",
            "_model_module": "@jupyter-widgets/controls"
          }
        },
        "8b02013aaa894c0ea203cced61e3705a": {
          "model_module": "@jupyter-widgets/base",
          "model_name": "LayoutModel",
          "model_module_version": "1.2.0",
          "state": {
            "_view_name": "LayoutView",
            "grid_template_rows": null,
            "right": null,
            "justify_content": null,
            "_view_module": "@jupyter-widgets/base",
            "overflow": null,
            "_model_module_version": "1.2.0",
            "_view_count": null,
            "flex_flow": null,
            "width": null,
            "min_width": null,
            "border": null,
            "align_items": null,
            "bottom": null,
            "_model_module": "@jupyter-widgets/base",
            "top": null,
            "grid_column": null,
            "overflow_y": null,
            "overflow_x": null,
            "grid_auto_flow": null,
            "grid_area": null,
            "grid_template_columns": null,
            "flex": null,
            "_model_name": "LayoutModel",
            "justify_items": null,
            "grid_row": null,
            "max_height": null,
            "align_content": null,
            "visibility": null,
            "align_self": null,
            "height": null,
            "min_height": null,
            "padding": null,
            "grid_auto_rows": null,
            "grid_gap": null,
            "max_width": null,
            "order": null,
            "_view_module_version": "1.2.0",
            "grid_template_areas": null,
            "object_position": null,
            "object_fit": null,
            "grid_auto_columns": null,
            "margin": null,
            "display": null,
            "left": null
          }
        },
        "6a01b22bf72f42f4af77db9be96592dd": {
          "model_module": "@jupyter-widgets/controls",
          "model_name": "ProgressStyleModel",
          "model_module_version": "1.5.0",
          "state": {
            "_view_name": "StyleView",
            "_model_name": "ProgressStyleModel",
            "description_width": "",
            "_view_module": "@jupyter-widgets/base",
            "_model_module_version": "1.5.0",
            "_view_count": null,
            "_view_module_version": "1.2.0",
            "bar_color": null,
            "_model_module": "@jupyter-widgets/controls"
          }
        },
        "a5f8e4cbacca4559a930397a4c9d702a": {
          "model_module": "@jupyter-widgets/base",
          "model_name": "LayoutModel",
          "model_module_version": "1.2.0",
          "state": {
            "_view_name": "LayoutView",
            "grid_template_rows": null,
            "right": null,
            "justify_content": null,
            "_view_module": "@jupyter-widgets/base",
            "overflow": null,
            "_model_module_version": "1.2.0",
            "_view_count": null,
            "flex_flow": null,
            "width": null,
            "min_width": null,
            "border": null,
            "align_items": null,
            "bottom": null,
            "_model_module": "@jupyter-widgets/base",
            "top": null,
            "grid_column": null,
            "overflow_y": null,
            "overflow_x": null,
            "grid_auto_flow": null,
            "grid_area": null,
            "grid_template_columns": null,
            "flex": null,
            "_model_name": "LayoutModel",
            "justify_items": null,
            "grid_row": null,
            "max_height": null,
            "align_content": null,
            "visibility": null,
            "align_self": null,
            "height": null,
            "min_height": null,
            "padding": null,
            "grid_auto_rows": null,
            "grid_gap": null,
            "max_width": null,
            "order": null,
            "_view_module_version": "1.2.0",
            "grid_template_areas": null,
            "object_position": null,
            "object_fit": null,
            "grid_auto_columns": null,
            "margin": null,
            "display": null,
            "left": null
          }
        },
        "459d1354cce24c5f99c31da701b22cf1": {
          "model_module": "@jupyter-widgets/controls",
          "model_name": "DescriptionStyleModel",
          "model_module_version": "1.5.0",
          "state": {
            "_view_name": "StyleView",
            "_model_name": "DescriptionStyleModel",
            "description_width": "",
            "_view_module": "@jupyter-widgets/base",
            "_model_module_version": "1.5.0",
            "_view_count": null,
            "_view_module_version": "1.2.0",
            "_model_module": "@jupyter-widgets/controls"
          }
        },
        "439c01ad5bde4209870341dab8f93ef4": {
          "model_module": "@jupyter-widgets/base",
          "model_name": "LayoutModel",
          "model_module_version": "1.2.0",
          "state": {
            "_view_name": "LayoutView",
            "grid_template_rows": null,
            "right": null,
            "justify_content": null,
            "_view_module": "@jupyter-widgets/base",
            "overflow": null,
            "_model_module_version": "1.2.0",
            "_view_count": null,
            "flex_flow": null,
            "width": null,
            "min_width": null,
            "border": null,
            "align_items": null,
            "bottom": null,
            "_model_module": "@jupyter-widgets/base",
            "top": null,
            "grid_column": null,
            "overflow_y": null,
            "overflow_x": null,
            "grid_auto_flow": null,
            "grid_area": null,
            "grid_template_columns": null,
            "flex": null,
            "_model_name": "LayoutModel",
            "justify_items": null,
            "grid_row": null,
            "max_height": null,
            "align_content": null,
            "visibility": null,
            "align_self": null,
            "height": null,
            "min_height": null,
            "padding": null,
            "grid_auto_rows": null,
            "grid_gap": null,
            "max_width": null,
            "order": null,
            "_view_module_version": "1.2.0",
            "grid_template_areas": null,
            "object_position": null,
            "object_fit": null,
            "grid_auto_columns": null,
            "margin": null,
            "display": null,
            "left": null
          }
        }
      }
    }
  },
  "cells": [
    {
      "cell_type": "code",
      "source": [
        "!pip install pm4py"
      ],
      "metadata": {
        "colab": {
          "base_uri": "https://localhost:8080/"
        },
        "id": "OmaZuoMoIMhx",
        "outputId": "f4ba63f7-c18d-4808-f831-fc294a831493"
      },
      "execution_count": 1,
      "outputs": [
        {
          "output_type": "stream",
          "name": "stdout",
          "text": [
            "Successfully installed deprecation-2.1.0 jsonpickle-2.1.0 pm4py-2.2.19 pyvis-0.1.9 stringdist-1.0.9\n"
          ]
        }
      ]
    },
    {
      "cell_type": "code",
      "execution_count": 2,
      "metadata": {
        "id": "BbcbFystG6Ub"
      },
      "outputs": [],
      "source": [
        "import pm4py\n",
        "import pandas"
      ]
    },
    {
      "cell_type": "code",
      "source": [
        "# Google Drive\n",
        "from google.colab import drive\n",
        "drive.mount('/content/gdrive')"
      ],
      "metadata": {
        "colab": {
          "base_uri": "https://localhost:8080/"
        },
        "id": "PJG13RtWJBZo",
        "outputId": "5ea12c51-94c0-4289-e9a2-7b7dd907be92"
      },
      "execution_count": 3,
      "outputs": [
        {
          "output_type": "stream",
          "name": "stdout",
          "text": [
            "Mounted at /content/gdrive\n"
          ]
        }
      ]
    },
    {
      "cell_type": "code",
      "source": [
        "# import log\n",
        "from pm4py.objects.log.importer.xes import importer as xes_importer\n",
        "# log from here https://www.futurelearn.com/info/courses/process-mining/0/steps/15620\n",
        "log_xes2 = xes_importer.apply('/content/gdrive/MyDrive/Курс 2/Проект/logs/Artificial - Repair.xes')"
      ],
      "metadata": {
        "colab": {
          "base_uri": "https://localhost:8080/",
          "height": 49,
          "referenced_widgets": [
            "3857a653b5b54542a40e252835cff040",
            "32e82109bda44e9db0330b6808d5a75c",
            "3f1d1812138242f49a2bb5bb4c46cc96",
            "8b5c25cf536f418bad5913cac311a5ab",
            "13c7a67ab5a54ce3af4df50be7e56aa0",
            "581c9a1b888242b1a858346a1f58ecaf",
            "e0bfd7a30c824a9e8903ea4e45efb057",
            "11f9daaf7ce64eeebb00e4594c0d6aae",
            "8218ba2ad82541bc839edcca6fc98027",
            "5f366255061949068143ff5fed01ed5a",
            "ec4de79ca1914e188262b2806b021d5e"
          ]
        },
        "id": "1plaqgq_IStW",
        "outputId": "e0cf786e-be30-43c3-cade-2833f3083174"
      },
      "execution_count": 4,
      "outputs": [
        {
          "output_type": "display_data",
          "data": {
            "application/vnd.jupyter.widget-view+json": {
              "model_id": "3857a653b5b54542a40e252835cff040",
              "version_minor": 0,
              "version_major": 2
            },
            "text/plain": [
              "parsing log, completed traces ::   0%|          | 0/1104 [00:00<?, ?it/s]"
            ]
          },
          "metadata": {}
        }
      ]
    },
    {
      "cell_type": "code",
      "source": [
        "# discover a net\n",
        "from pm4py.visualization.petri_net import visualizer as pn_visualizer\n",
        "# full\n",
        "new_net, init_marking, final_marking = pm4py.discover_petri_net_inductive(log_xes2)\n",
        "viz = pn_visualizer.apply(new_net, init_marking, final_marking)\n",
        "viz\n",
        "pn_visualizer.save(viz, 'full_net.png')"
      ],
      "metadata": {
        "id": "pmyqmXdHJ31-"
      },
      "execution_count": 5,
      "outputs": []
    },
    {
      "cell_type": "markdown",
      "source": [
        "# Change the Net (functions)\n",
        "здесь возможно изобретение целого ряда велосипедов"
      ],
      "metadata": {
        "id": "KTORhLSiJu7g"
      }
    },
    {
      "cell_type": "code",
      "source": [
        "from pm4py.objects.petri_net.obj import PetriNet, Marking\n",
        "\n",
        "def del_arc(source_name, target_name, net):\n",
        "  bad_arc = None\n",
        "  for arc in net.arcs:\n",
        "    match_source = (source_name == arc.source.name)\n",
        "    if isinstance(arc.source, PetriNet.Transition):\n",
        "      match_source = match_source or (source_name == arc.source.label)\n",
        "    match_target = (target_name == arc.target.name)\n",
        "    if isinstance(arc.target, PetriNet.Transition):\n",
        "      match_target = match_target or (target_name == arc.target.label)\n",
        "\n",
        "    if match_source and match_target:\n",
        "      bad_arc = arc\n",
        "  \n",
        "  if bad_arc is None:\n",
        "    return\n",
        "\n",
        "  print('removed', bad_arc)\n",
        "\n",
        "  for pl in net.places:\n",
        "    if bad_arc in pl.in_arcs:\n",
        "      pl.in_arcs.remove(bad_arc)\n",
        "    if bad_arc in pl.out_arcs:\n",
        "      pl.out_arcs.remove(bad_arc)\n",
        "\n",
        "  for tr in net.transitions:\n",
        "    if bad_arc in tr.in_arcs:\n",
        "      tr.in_arcs.remove(bad_arc)\n",
        "    if bad_arc in tr.out_arcs:\n",
        "      tr.out_arcs.remove(bad_arc)\n",
        "\n",
        "  net.arcs.remove(bad_arc)\n",
        "\n",
        "def del_trans(label, net):\n",
        "  for trans in net.transitions:\n",
        "    if (trans.label == label or trans.name == label):\n",
        "      print('delete', trans)\n",
        "      net.transitions.remove(trans)\n",
        "      return\n",
        "  return\n",
        "\n",
        "def del_place(label, net):\n",
        "  for place in net.places:\n",
        "    if (place.name == label):\n",
        "      print('delete', place)\n",
        "      net.places.remove(place)\n",
        "      return\n",
        "  return\n",
        "\n",
        "def create_arc(source_name, target_name, net):\n",
        "  source = None\n",
        "  target = None\n",
        "\n",
        "  for place in net.places:\n",
        "    if (place.name == source_name):\n",
        "      source = place\n",
        "    if (place.name == target_name):\n",
        "      target = place\n",
        "  \n",
        "  for trans in net.transitions:\n",
        "    if (trans.label == source_name):\n",
        "      source = trans\n",
        "    if (trans.label == target_name):\n",
        "      target = trans\n",
        "  \n",
        "  if source is None or target is None:\n",
        "    return\n",
        "  # print(source, target)\n",
        "  arc = PetriNet.Arc(source, target, 1)\n",
        "  if arc in net.arcs:\n",
        "    return\n",
        "  print('created', arc)\n",
        "  net.arcs.add(arc)\n",
        "\n",
        "# by name\n",
        "def copy_marking(marking, net):\n",
        "  new_marking = Marking()\n",
        "  for pl in marking:\n",
        "    for new_net_pl in net.places:\n",
        "      if (pl.name == new_net_pl.name):\n",
        "        new_marking[new_net_pl] = marking[pl]\n",
        "  return new_marking"
      ],
      "metadata": {
        "id": "5_R-JUhCKFoX"
      },
      "execution_count": 6,
      "outputs": []
    },
    {
      "cell_type": "markdown",
      "source": [
        "# Worsen the net"
      ],
      "metadata": {
        "id": "PQxPPNSUKso1"
      }
    },
    {
      "cell_type": "code",
      "source": [
        "from copy import deepcopy\n",
        "\n",
        "custom_net = deepcopy(new_net)\n",
        "custom_init_marking = copy_marking(init_marking, custom_net)\n",
        "custom_final_marking = copy_marking(final_marking, custom_net)"
      ],
      "metadata": {
        "id": "Ptt2bfKzKume"
      },
      "execution_count": 7,
      "outputs": []
    },
    {
      "cell_type": "code",
      "source": [
        "# skip 'restart repair'\n",
        "del_arc('p_20', 'skip_15', custom_net)\n",
        "del_arc('p_20', 'skip_16', custom_net)\n",
        "\n",
        "del_arc('skip_16', 'p_18', custom_net)\n",
        "del_arc('Test Repair', 'p_20', custom_net)\n",
        "del_arc('skip_15', 'p_19', custom_net)\n",
        "del_arc('p_19', 'Test Repair', custom_net)\n",
        "\n",
        "del_arc('skip_16', 'p_18', custom_net)\n",
        "del_arc('init_loop_13', 'p_19', custom_net)\n",
        "del_arc('p_17', 'init_loop_13', custom_net)\n",
        "\n",
        "del_trans('init_loop_13', custom_net)\n",
        "del_trans('Test Repair', custom_net)\n",
        "del_trans('skip_15', custom_net)\n",
        "del_trans('skip_16', custom_net)\n",
        "del_place('p_19', custom_net)\n",
        "del_place('p_20', custom_net)\n",
        "\n",
        "create_arc('Repair (Complex)', 'p_16', custom_net)\n",
        "del_arc('Repair (Complex)', 'p_17', custom_net)\n",
        "###\n",
        "pn_visualizer.apply(custom_net, custom_init_marking, custom_final_marking)"
      ],
      "metadata": {
        "colab": {
          "base_uri": "https://localhost:8080/",
          "height": 660
        },
        "id": "qfWYFK0hK1YL",
        "outputId": "a1b02c9f-f047-494a-fbaf-76cf7a9a1a31"
      },
      "execution_count": 8,
      "outputs": [
        {
          "output_type": "stream",
          "name": "stdout",
          "text": [
            "removed p_20->(skip_15, None)\n",
            "removed p_20->(skip_16, None)\n",
            "removed (skip_16, None)->p_18\n",
            "removed (96209ee0-51c8-47ec-afac-12d7ac7f98be, 'Test Repair')->p_20\n",
            "removed (skip_15, None)->p_19\n",
            "removed p_19->(96209ee0-51c8-47ec-afac-12d7ac7f98be, 'Test Repair')\n",
            "removed (init_loop_13, None)->p_19\n",
            "removed p_17->(init_loop_13, None)\n",
            "delete (init_loop_13, None)\n",
            "delete (96209ee0-51c8-47ec-afac-12d7ac7f98be, 'Test Repair')\n",
            "delete (skip_15, None)\n",
            "delete (skip_16, None)\n",
            "delete p_19\n",
            "delete p_20\n",
            "created (1fbc4630-de4d-48a2-9259-47e67ea5bd5b, 'Repair (Complex)')->p_16\n",
            "removed (1fbc4630-de4d-48a2-9259-47e67ea5bd5b, 'Repair (Complex)')->p_17\n"
          ]
        },
        {
          "output_type": "execute_result",
          "data": {
            "text/plain": [
              "<graphviz.dot.Digraph at 0x7fd814c3e690>"
            ],
            "image/svg+xml": "<?xml version=\"1.0\" encoding=\"UTF-8\" standalone=\"no\"?>\n<!DOCTYPE svg PUBLIC \"-//W3C//DTD SVG 1.1//EN\"\n \"http://www.w3.org/Graphics/SVG/1.1/DTD/svg11.dtd\">\n<!-- Generated by graphviz version 2.40.1 (20161225.0304)\n -->\n<!-- Title: imdf_net_1643921382.2659922 Pages: 1 -->\n<svg width=\"2080pt\" height=\"256pt\"\n viewBox=\"0.00 0.00 2080.00 256.00\" xmlns=\"http://www.w3.org/2000/svg\" xmlns:xlink=\"http://www.w3.org/1999/xlink\">\n<g id=\"graph0\" class=\"graph\" transform=\"scale(1 1) rotate(0) translate(4 252)\">\n<title>imdf_net_1643921382.2659922</title>\n<!-- 140566039047696 -->\n<g id=\"node1\" class=\"node\">\n<title>140566039047696</title>\n<polygon fill=\"#000000\" stroke=\"#000000\" points=\"145,-112 91,-112 91,-76 145,-76 145,-112\"/>\n</g>\n<!-- 140566039047632 -->\n<g id=\"node27\" class=\"node\">\n<title>140566039047632</title>\n<ellipse fill=\"none\" stroke=\"#000000\" cx=\"209\" cy=\"-149\" rx=\"27\" ry=\"27\"/>\n</g>\n<!-- 140566039047696&#45;&gt;140566039047632 -->\n<g id=\"edge33\" class=\"edge\">\n<title>140566039047696&#45;&gt;140566039047632</title>\n<path fill=\"none\" stroke=\"#000000\" d=\"M145.303,-110.5018C155.2639,-116.5222 166.6179,-123.3845 176.9541,-129.6316\"/>\n<polygon fill=\"#000000\" stroke=\"#000000\" points=\"175.346,-132.7493 185.7148,-134.9265 178.9669,-126.7585 175.346,-132.7493\"/>\n</g>\n<!-- 140566039047824 -->\n<g id=\"node2\" class=\"node\">\n<title>140566039047824</title>\n<polygon fill=\"#000000\" stroke=\"#000000\" points=\"543,-135 489,-135 489,-99 543,-99 543,-135\"/>\n</g>\n<!-- 140566039046032 -->\n<g id=\"node21\" class=\"node\">\n<title>140566039046032</title>\n<ellipse fill=\"none\" stroke=\"#000000\" cx=\"606\" cy=\"-154\" rx=\"27\" ry=\"27\"/>\n</g>\n<!-- 140566039047824&#45;&gt;140566039046032 -->\n<g id=\"edge34\" class=\"edge\">\n<title>140566039047824&#45;&gt;140566039046032</title>\n<path fill=\"none\" stroke=\"#000000\" d=\"M543.003,-128.1012C551.9184,-131.7665 561.9622,-135.8956 571.3671,-139.762\"/>\n<polygon fill=\"#000000\" stroke=\"#000000\" points=\"570.2829,-143.1005 580.8627,-143.6658 572.9446,-136.6263 570.2829,-143.1005\"/>\n</g>\n<!-- 140566039045840 -->\n<g id=\"node30\" class=\"node\">\n<title>140566039045840</title>\n<ellipse fill=\"none\" stroke=\"#000000\" cx=\"606\" cy=\"-81\" rx=\"27\" ry=\"27\"/>\n</g>\n<!-- 140566039047824&#45;&gt;140566039045840 -->\n<g id=\"edge35\" class=\"edge\">\n<title>140566039047824&#45;&gt;140566039045840</title>\n<path fill=\"none\" stroke=\"#000000\" d=\"M543.003,-106.1988C551.9184,-102.6326 561.9622,-98.6151 571.3671,-94.8531\"/>\n<polygon fill=\"#000000\" stroke=\"#000000\" points=\"572.8778,-98.0186 580.8627,-91.0549 570.278,-91.5192 572.8778,-98.0186\"/>\n</g>\n<!-- 140566039047184 -->\n<g id=\"node3\" class=\"node\">\n<title>140566039047184</title>\n<polygon fill=\"none\" stroke=\"#000000\" points=\"961,-172 869,-172 869,-136 961,-136 961,-172\"/>\n<text text-anchor=\"middle\" x=\"915\" y=\"-150.9\" font-family=\"Times,serif\" font-size=\"12.00\" fill=\"#000000\">Repair (Simple)</text>\n</g>\n<!-- 140566039046608 -->\n<g id=\"node25\" class=\"node\">\n<title>140566039046608</title>\n<ellipse fill=\"none\" stroke=\"#000000\" cx=\"1048\" cy=\"-154\" rx=\"27\" ry=\"27\"/>\n</g>\n<!-- 140566039047184&#45;&gt;140566039046608 -->\n<g id=\"edge5\" class=\"edge\">\n<title>140566039047184&#45;&gt;140566039046608</title>\n<path fill=\"none\" stroke=\"#000000\" d=\"M961.1437,-154C977.3588,-154 995.3609,-154 1010.7522,-154\"/>\n<polygon fill=\"#000000\" stroke=\"#000000\" points=\"1010.9365,-157.5001 1020.9364,-154 1010.9364,-150.5001 1010.9365,-157.5001\"/>\n</g>\n<!-- 140566039044752 -->\n<g id=\"node4\" class=\"node\">\n<title>140566039044752</title>\n<polygon fill=\"#000000\" stroke=\"#000000\" points=\"1759,-102 1705,-102 1705,-66 1759,-66 1759,-102\"/>\n</g>\n<!-- 140566039045328 -->\n<g id=\"node29\" class=\"node\">\n<title>140566039045328</title>\n<ellipse fill=\"none\" stroke=\"#000000\" cx=\"1822\" cy=\"-84\" rx=\"27\" ry=\"27\"/>\n</g>\n<!-- 140566039044752&#45;&gt;140566039045328 -->\n<g id=\"edge38\" class=\"edge\">\n<title>140566039044752&#45;&gt;140566039045328</title>\n<path fill=\"none\" stroke=\"#000000\" d=\"M1759.003,-84C1767.0277,-84 1775.9665,-84 1784.5309,-84\"/>\n<polygon fill=\"#000000\" stroke=\"#000000\" points=\"1784.7051,-87.5001 1794.705,-84 1784.705,-80.5001 1784.7051,-87.5001\"/>\n</g>\n<!-- 140566039046800 -->\n<g id=\"node5\" class=\"node\">\n<title>140566039046800</title>\n<polygon fill=\"#000000\" stroke=\"#000000\" points=\"1189,-172 1135,-172 1135,-136 1189,-136 1189,-172\"/>\n</g>\n<!-- 140566039045712 -->\n<g id=\"node26\" class=\"node\">\n<title>140566039045712</title>\n<ellipse fill=\"none\" stroke=\"#000000\" cx=\"1252\" cy=\"-154\" rx=\"27\" ry=\"27\"/>\n</g>\n<!-- 140566039046800&#45;&gt;140566039045712 -->\n<g id=\"edge27\" class=\"edge\">\n<title>140566039046800&#45;&gt;140566039045712</title>\n<path fill=\"none\" stroke=\"#000000\" d=\"M1189.003,-154C1197.0277,-154 1205.9665,-154 1214.5309,-154\"/>\n<polygon fill=\"#000000\" stroke=\"#000000\" points=\"1214.7051,-157.5001 1224.705,-154 1214.705,-150.5001 1214.7051,-157.5001\"/>\n</g>\n<!-- 140566039047952 -->\n<g id=\"node6\" class=\"node\">\n<title>140566039047952</title>\n<polygon fill=\"none\" stroke=\"#000000\" points=\"1974,-129 1885,-129 1885,-93 1974,-93 1974,-129\"/>\n<text text-anchor=\"middle\" x=\"1929.5\" y=\"-107.9\" font-family=\"Times,serif\" font-size=\"12.00\" fill=\"#000000\">Archive Repair</text>\n</g>\n<!-- 140566039047056 -->\n<g id=\"node31\" class=\"node\">\n<title>140566039047056</title>\n<ellipse fill=\"none\" stroke=\"#000000\" cx=\"2041\" cy=\"-84\" rx=\"27\" ry=\"27\"/>\n<ellipse fill=\"none\" stroke=\"#000000\" cx=\"2041\" cy=\"-84\" rx=\"31\" ry=\"31\"/>\n<text text-anchor=\"start\" x=\"2031\" y=\"-75.9\" font-family=\"Times,serif\" font-size=\"32.00\" fill=\"#000000\">■</text>\n</g>\n<!-- 140566039047952&#45;&gt;140566039047056 -->\n<g id=\"edge3\" class=\"edge\">\n<title>140566039047952&#45;&gt;140566039047056</title>\n<path fill=\"none\" stroke=\"#000000\" d=\"M1974.2089,-100.1736C1983.0052,-98.0436 1992.1836,-95.821 2000.82,-93.7297\"/>\n<polygon fill=\"#000000\" stroke=\"#000000\" points=\"2001.7588,-97.1036 2010.6541,-91.3483 2000.1113,-90.3002 2001.7588,-97.1036\"/>\n</g>\n<!-- 140566039045264 -->\n<g id=\"node7\" class=\"node\">\n<title>140566039045264</title>\n<polygon fill=\"none\" stroke=\"#000000\" points=\"146,-167 90,-167 90,-131 146,-131 146,-167\"/>\n<text text-anchor=\"middle\" x=\"118\" y=\"-145.9\" font-family=\"Times,serif\" font-size=\"12.00\" fill=\"#000000\">Register</text>\n</g>\n<!-- 140566039045264&#45;&gt;140566039047632 -->\n<g id=\"edge2\" class=\"edge\">\n<title>140566039045264&#45;&gt;140566039047632</title>\n<path fill=\"none\" stroke=\"#000000\" d=\"M146.2941,-149C154.3803,-149 163.3168,-149 171.8479,-149\"/>\n<polygon fill=\"#000000\" stroke=\"#000000\" points=\"171.9684,-152.5001 181.9684,-149 171.9683,-145.5001 171.9684,-152.5001\"/>\n</g>\n<!-- 140566039047568 -->\n<g id=\"node8\" class=\"node\">\n<title>140566039047568</title>\n<polygon fill=\"#000000\" stroke=\"#000000\" points=\"1384,-182 1330,-182 1330,-146 1384,-146 1384,-182\"/>\n</g>\n<!-- 140566039046160 -->\n<g id=\"node24\" class=\"node\">\n<title>140566039046160</title>\n<ellipse fill=\"none\" stroke=\"#000000\" cx=\"1462\" cy=\"-119\" rx=\"27\" ry=\"27\"/>\n</g>\n<!-- 140566039047568&#45;&gt;140566039046160 -->\n<g id=\"edge28\" class=\"edge\">\n<title>140566039047568&#45;&gt;140566039046160</title>\n<path fill=\"none\" stroke=\"#000000\" d=\"M1384.0401,-152.4114C1397.2713,-146.7409 1413.3491,-139.8504 1427.4591,-133.8032\"/>\n<polygon fill=\"#000000\" stroke=\"#000000\" points=\"1429.0413,-136.9331 1436.8541,-129.7768 1426.2839,-130.4991 1429.0413,-136.9331\"/>\n</g>\n<!-- 140566039046544 -->\n<g id=\"node9\" class=\"node\">\n<title>140566039046544</title>\n<polygon fill=\"#000000\" stroke=\"#000000\" points=\"1759,-171 1705,-171 1705,-135 1759,-135 1759,-171\"/>\n</g>\n<!-- 140566039046544&#45;&gt;140566039046032 -->\n<g id=\"edge31\" class=\"edge\">\n<title>140566039046544&#45;&gt;140566039046032</title>\n<path fill=\"none\" stroke=\"#000000\" d=\"M1712.723,-171.317C1681.5603,-198.9229 1617.017,-248 1552,-248 806,-248 806,-248 806,-248 740.113,-248 672.6214,-205.6988 635.328,-177.8502\"/>\n<polygon fill=\"#000000\" stroke=\"#000000\" points=\"637.0298,-174.7461 626.9574,-171.4604 632.7824,-180.3102 637.0298,-174.7461\"/>\n</g>\n<!-- 140566039046288 -->\n<g id=\"node10\" class=\"node\">\n<title>140566039046288</title>\n<polygon fill=\"#000000\" stroke=\"#000000\" points=\"1956.5,-75 1902.5,-75 1902.5,-39 1956.5,-39 1956.5,-75\"/>\n</g>\n<!-- 140566039046288&#45;&gt;140566039047056 -->\n<g id=\"edge32\" class=\"edge\">\n<title>140566039046288&#45;&gt;140566039047056</title>\n<path fill=\"none\" stroke=\"#000000\" d=\"M1956.776,-63.6049C1970.0813,-66.8269 1986.3444,-70.765 2001.0192,-74.3185\"/>\n<polygon fill=\"#000000\" stroke=\"#000000\" points=\"2000.3261,-77.7518 2010.869,-76.7037 2001.9736,-70.9484 2000.3261,-77.7518\"/>\n</g>\n<!-- 140566039045968 -->\n<g id=\"node11\" class=\"node\">\n<title>140566039045968</title>\n<polygon fill=\"none\" stroke=\"#000000\" points=\"1099,-100 997,-100 997,-64 1099,-64 1099,-100\"/>\n<text text-anchor=\"middle\" x=\"1048\" y=\"-78.9\" font-family=\"Times,serif\" font-size=\"12.00\" fill=\"#000000\">Repair (Complex)</text>\n</g>\n<!-- 140566039045968&#45;&gt;140566039046160 -->\n<g id=\"edge1\" class=\"edge\">\n<title>140566039045968&#45;&gt;140566039046160</title>\n<path fill=\"none\" stroke=\"#000000\" d=\"M1099.0518,-74.1239C1168.3363,-65.2302 1295.3818,-55.3246 1399,-83 1410.275,-86.0114 1421.6398,-91.5577 1431.5529,-97.4099\"/>\n<polygon fill=\"#000000\" stroke=\"#000000\" points=\"1429.8674,-100.4836 1440.2045,-102.8064 1433.5721,-94.5442 1429.8674,-100.4836\"/>\n</g>\n<!-- 140566039047120 -->\n<g id=\"node12\" class=\"node\">\n<title>140566039047120</title>\n<polygon fill=\"#000000\" stroke=\"#000000\" points=\"1579,-137 1525,-137 1525,-101 1579,-101 1579,-137\"/>\n</g>\n<!-- 140566039045648 -->\n<g id=\"node22\" class=\"node\">\n<title>140566039045648</title>\n<ellipse fill=\"none\" stroke=\"#000000\" cx=\"1642\" cy=\"-119\" rx=\"27\" ry=\"27\"/>\n</g>\n<!-- 140566039047120&#45;&gt;140566039045648 -->\n<g id=\"edge30\" class=\"edge\">\n<title>140566039047120&#45;&gt;140566039045648</title>\n<path fill=\"none\" stroke=\"#000000\" d=\"M1579.003,-119C1587.0277,-119 1595.9665,-119 1604.5309,-119\"/>\n<polygon fill=\"#000000\" stroke=\"#000000\" points=\"1604.7051,-122.5001 1614.705,-119 1604.705,-115.5001 1604.7051,-122.5001\"/>\n</g>\n<!-- 140566039047760 -->\n<g id=\"node13\" class=\"node\">\n<title>140566039047760</title>\n<polygon fill=\"#000000\" stroke=\"#000000\" points=\"1579,-201 1525,-201 1525,-165 1579,-165 1579,-201\"/>\n</g>\n<!-- 140566039048016 -->\n<g id=\"node23\" class=\"node\">\n<title>140566039048016</title>\n<ellipse fill=\"none\" stroke=\"#000000\" cx=\"806\" cy=\"-154\" rx=\"27\" ry=\"27\"/>\n</g>\n<!-- 140566039047760&#45;&gt;140566039048016 -->\n<g id=\"edge29\" class=\"edge\">\n<title>140566039047760&#45;&gt;140566039048016</title>\n<path fill=\"none\" stroke=\"#000000\" d=\"M1524.7155,-189.1943C1487.1584,-197.1657 1417.3227,-210 1357,-210 1048,-210 1048,-210 1048,-210 967.4071,-210 946.3926,-203.4855 869,-181 859.2468,-178.1663 848.9941,-174.2209 839.6592,-170.22\"/>\n<polygon fill=\"#000000\" stroke=\"#000000\" points=\"840.8828,-166.9338 830.3228,-166.0749 838.0423,-173.3316 840.8828,-166.9338\"/>\n</g>\n<!-- 140566039045200 -->\n<g id=\"node14\" class=\"node\">\n<title>140566039045200</title>\n<polygon fill=\"none\" stroke=\"#000000\" points=\"363,-162 272,-162 272,-126 363,-126 363,-162\"/>\n<text text-anchor=\"middle\" x=\"317.5\" y=\"-140.9\" font-family=\"Times,serif\" font-size=\"12.00\" fill=\"#000000\">Analyze Defect</text>\n</g>\n<!-- 140566039047376 -->\n<g id=\"node28\" class=\"node\">\n<title>140566039047376</title>\n<ellipse fill=\"none\" stroke=\"#000000\" cx=\"426\" cy=\"-117\" rx=\"27\" ry=\"27\"/>\n</g>\n<!-- 140566039045200&#45;&gt;140566039047376 -->\n<g id=\"edge4\" class=\"edge\">\n<title>140566039045200&#45;&gt;140566039047376</title>\n<path fill=\"none\" stroke=\"#000000\" d=\"M363.1993,-132.6278C372.0105,-130.4352 381.1303,-128.1657 389.5974,-126.0587\"/>\n<polygon fill=\"#000000\" stroke=\"#000000\" points=\"390.6782,-129.3966 399.5371,-123.5852 388.9878,-122.6037 390.6782,-129.3966\"/>\n</g>\n<!-- 140566039046096 -->\n<g id=\"node15\" class=\"node\">\n<title>140566039046096</title>\n<polygon fill=\"#000000\" stroke=\"#000000\" points=\"733,-99 679,-99 679,-63 733,-63 733,-99\"/>\n</g>\n<!-- 140566039046736 -->\n<g id=\"node20\" class=\"node\">\n<title>140566039046736</title>\n<ellipse fill=\"none\" stroke=\"#000000\" cx=\"806\" cy=\"-27\" rx=\"27\" ry=\"27\"/>\n</g>\n<!-- 140566039046096&#45;&gt;140566039046736 -->\n<g id=\"edge36\" class=\"edge\">\n<title>140566039046096&#45;&gt;140566039046736</title>\n<path fill=\"none\" stroke=\"#000000\" d=\"M733.0614,-66.3868C745.3494,-59.7513 759.9972,-51.8415 772.9311,-44.8572\"/>\n<polygon fill=\"#000000\" stroke=\"#000000\" points=\"774.8519,-47.7978 781.9879,-39.9665 771.5258,-41.6384 774.8519,-47.7978\"/>\n</g>\n<!-- 140566039044176 -->\n<g id=\"node16\" class=\"node\">\n<title>140566039044176</title>\n<polygon fill=\"#000000\" stroke=\"#000000\" points=\"733,-172 679,-172 679,-136 733,-136 733,-172\"/>\n</g>\n<!-- 140566039044176&#45;&gt;140566039048016 -->\n<g id=\"edge8\" class=\"edge\">\n<title>140566039044176&#45;&gt;140566039048016</title>\n<path fill=\"none\" stroke=\"#000000\" d=\"M733.0614,-154C744.0669,-154 756.9653,-154 768.83,-154\"/>\n<polygon fill=\"#000000\" stroke=\"#000000\" points=\"768.917,-157.5001 778.9169,-154 768.9169,-150.5001 768.917,-157.5001\"/>\n</g>\n<!-- 140566039046224 -->\n<g id=\"node17\" class=\"node\">\n<title>140566039046224</title>\n<polygon fill=\"none\" stroke=\"#000000\" points=\"743,-45 669,-45 669,-9 743,-9 743,-45\"/>\n<text text-anchor=\"middle\" x=\"706\" y=\"-23.9\" font-family=\"Times,serif\" font-size=\"12.00\" fill=\"#000000\">Inform User</text>\n</g>\n<!-- 140566039046224&#45;&gt;140566039046736 -->\n<g id=\"edge6\" class=\"edge\">\n<title>140566039046224&#45;&gt;140566039046736</title>\n<path fill=\"none\" stroke=\"#000000\" d=\"M743.2363,-27C751.5138,-27 760.2914,-27 768.5763,-27\"/>\n<polygon fill=\"#000000\" stroke=\"#000000\" points=\"768.7324,-30.5001 778.7324,-27 768.7323,-23.5001 768.7324,-30.5001\"/>\n</g>\n<!-- 140566039046480 -->\n<g id=\"node18\" class=\"node\">\n<title>140566039046480</title>\n<polygon fill=\"none\" stroke=\"#000000\" points=\"1399,-128 1315,-128 1315,-92 1399,-92 1399,-128\"/>\n<text text-anchor=\"middle\" x=\"1357\" y=\"-106.9\" font-family=\"Times,serif\" font-size=\"12.00\" fill=\"#000000\">Restart Repair</text>\n</g>\n<!-- 140566039046480&#45;&gt;140566039046160 -->\n<g id=\"edge7\" class=\"edge\">\n<title>140566039046480&#45;&gt;140566039046160</title>\n<path fill=\"none\" stroke=\"#000000\" d=\"M1399.1025,-113.6088C1407.6072,-114.3378 1416.491,-115.0992 1424.8124,-115.8125\"/>\n<polygon fill=\"#000000\" stroke=\"#000000\" points=\"1424.7188,-119.3172 1434.9812,-116.6841 1425.3167,-112.3428 1424.7188,-119.3172\"/>\n</g>\n<!-- 140566039046928 -->\n<g id=\"node19\" class=\"node\">\n<title>140566039046928</title>\n<ellipse fill=\"none\" stroke=\"#000000\" cx=\"27\" cy=\"-149\" rx=\"27\" ry=\"27\"/>\n<text text-anchor=\"start\" x=\"16.5\" y=\"-140.3\" font-family=\"Times,serif\" font-size=\"34.00\" fill=\"#000000\">●</text>\n</g>\n<!-- 140566039046928&#45;&gt;140566039045264 -->\n<g id=\"edge37\" class=\"edge\">\n<title>140566039046928&#45;&gt;140566039045264</title>\n<path fill=\"none\" stroke=\"#000000\" d=\"M54.303,-149C62.268,-149 71.1237,-149 79.6375,-149\"/>\n<polygon fill=\"#000000\" stroke=\"#000000\" points=\"79.77,-152.5001 89.77,-149 79.77,-145.5001 79.77,-152.5001\"/>\n</g>\n<!-- 140566039046736&#45;&gt;140566039044752 -->\n<g id=\"edge9\" class=\"edge\">\n<title>140566039046736&#45;&gt;140566039044752</title>\n<path fill=\"none\" stroke=\"#000000\" d=\"M833.2191,-26.8143C878.0099,-26.5251 970.0636,-26 1048,-26 1048,-26 1048,-26 1552,-26 1603.839,-26 1660.2043,-48.0628 1695.7934,-64.9735\"/>\n<polygon fill=\"#000000\" stroke=\"#000000\" points=\"1694.2951,-68.1367 1704.8186,-69.3642 1697.3574,-61.8421 1694.2951,-68.1367\"/>\n</g>\n<!-- 140566039046032&#45;&gt;140566039044176 -->\n<g id=\"edge10\" class=\"edge\">\n<title>140566039046032&#45;&gt;140566039044176</title>\n<path fill=\"none\" stroke=\"#000000\" d=\"M633.0614,-154C644.0669,-154 656.9653,-154 668.83,-154\"/>\n<polygon fill=\"#000000\" stroke=\"#000000\" points=\"668.917,-157.5001 678.9169,-154 668.9169,-150.5001 668.917,-157.5001\"/>\n</g>\n<!-- 140566039045648&#45;&gt;140566039044752 -->\n<g id=\"edge12\" class=\"edge\">\n<title>140566039045648&#45;&gt;140566039044752</title>\n<path fill=\"none\" stroke=\"#000000\" d=\"M1667.5497,-109.064C1676.1894,-105.7041 1686.0137,-101.8836 1695.3423,-98.2558\"/>\n<polygon fill=\"#000000\" stroke=\"#000000\" points=\"1696.7624,-101.4589 1704.8139,-94.5724 1694.2253,-94.9349 1696.7624,-101.4589\"/>\n</g>\n<!-- 140566039045648&#45;&gt;140566039046544 -->\n<g id=\"edge11\" class=\"edge\">\n<title>140566039045648&#45;&gt;140566039046544</title>\n<path fill=\"none\" stroke=\"#000000\" d=\"M1667.5497,-128.6521C1676.1894,-131.916 1686.0137,-135.6274 1695.3423,-139.1516\"/>\n<polygon fill=\"#000000\" stroke=\"#000000\" points=\"1694.2223,-142.4698 1704.8139,-142.7297 1696.6961,-135.9215 1694.2223,-142.4698\"/>\n</g>\n<!-- 140566039048016&#45;&gt;140566039047184 -->\n<g id=\"edge14\" class=\"edge\">\n<title>140566039048016&#45;&gt;140566039047184</title>\n<path fill=\"none\" stroke=\"#000000\" d=\"M833.2241,-154C840.9289,-154 849.6135,-154 858.3716,-154\"/>\n<polygon fill=\"#000000\" stroke=\"#000000\" points=\"858.6322,-157.5001 868.6322,-154 858.6322,-150.5001 858.6322,-157.5001\"/>\n</g>\n<!-- 140566039048016&#45;&gt;140566039045968 -->\n<g id=\"edge13\" class=\"edge\">\n<title>140566039048016&#45;&gt;140566039045968</title>\n<path fill=\"none\" stroke=\"#000000\" d=\"M830.4826,-142.4341C842.0043,-137.2704 856.0344,-131.3773 869,-127 907.5469,-113.9863 951.8886,-102.8121 986.7952,-94.8539\"/>\n<polygon fill=\"#000000\" stroke=\"#000000\" points=\"987.8546,-98.2031 996.8419,-92.5925 986.3173,-91.374 987.8546,-98.2031\"/>\n</g>\n<!-- 140566039046160&#45;&gt;140566039047120 -->\n<g id=\"edge16\" class=\"edge\">\n<title>140566039046160&#45;&gt;140566039047120</title>\n<path fill=\"none\" stroke=\"#000000\" d=\"M1489.003,-119C1497.0277,-119 1505.9665,-119 1514.5309,-119\"/>\n<polygon fill=\"#000000\" stroke=\"#000000\" points=\"1514.7051,-122.5001 1524.705,-119 1514.705,-115.5001 1514.7051,-122.5001\"/>\n</g>\n<!-- 140566039046160&#45;&gt;140566039047760 -->\n<g id=\"edge15\" class=\"edge\">\n<title>140566039046160&#45;&gt;140566039047760</title>\n<path fill=\"none\" stroke=\"#000000\" d=\"M1484.2472,-134.8202C1494.4514,-142.0765 1506.7738,-150.8391 1518.0965,-158.8908\"/>\n<polygon fill=\"#000000\" stroke=\"#000000\" points=\"1516.3306,-161.9298 1526.5086,-164.8728 1520.3873,-156.2251 1516.3306,-161.9298\"/>\n</g>\n<!-- 140566039046608&#45;&gt;140566039046800 -->\n<g id=\"edge17\" class=\"edge\">\n<title>140566039046608&#45;&gt;140566039046800</title>\n<path fill=\"none\" stroke=\"#000000\" d=\"M1075.0164,-154C1089.8155,-154 1108.3844,-154 1124.5611,-154\"/>\n<polygon fill=\"#000000\" stroke=\"#000000\" points=\"1124.7825,-157.5001 1134.7824,-154 1124.7824,-150.5001 1124.7825,-157.5001\"/>\n</g>\n<!-- 140566039045712&#45;&gt;140566039047568 -->\n<g id=\"edge19\" class=\"edge\">\n<title>140566039045712&#45;&gt;140566039047568</title>\n<path fill=\"none\" stroke=\"#000000\" d=\"M1279.0401,-156.5752C1291.3143,-157.7442 1306.0382,-159.1465 1319.3683,-160.416\"/>\n<polygon fill=\"#000000\" stroke=\"#000000\" points=\"1319.3998,-163.9348 1329.6866,-161.3987 1320.0635,-156.9663 1319.3998,-163.9348\"/>\n</g>\n<!-- 140566039045712&#45;&gt;140566039046480 -->\n<g id=\"edge18\" class=\"edge\">\n<title>140566039045712&#45;&gt;140566039046480</title>\n<path fill=\"none\" stroke=\"#000000\" d=\"M1277.1501,-143.4609C1285.7018,-139.8773 1295.5968,-135.7309 1305.4472,-131.6031\"/>\n<polygon fill=\"#000000\" stroke=\"#000000\" points=\"1306.9623,-134.7631 1314.8326,-127.6702 1304.2569,-128.307 1306.9623,-134.7631\"/>\n</g>\n<!-- 140566039047632&#45;&gt;140566039045200 -->\n<g id=\"edge20\" class=\"edge\">\n<title>140566039047632&#45;&gt;140566039045200</title>\n<path fill=\"none\" stroke=\"#000000\" d=\"M236.0992,-147.7512C243.9432,-147.3897 252.8075,-146.9812 261.7268,-146.5702\"/>\n<polygon fill=\"#000000\" stroke=\"#000000\" points=\"261.9405,-150.0642 271.7688,-146.1074 261.6182,-143.0716 261.9405,-150.0642\"/>\n</g>\n<!-- 140566039047376&#45;&gt;140566039047696 -->\n<g id=\"edge21\" class=\"edge\">\n<title>140566039047376&#45;&gt;140566039047696</title>\n<path fill=\"none\" stroke=\"#000000\" d=\"M398.6676,-114.9589C343.35,-110.8281 218.069,-101.4727 155.303,-96.7856\"/>\n<polygon fill=\"#000000\" stroke=\"#000000\" points=\"155.2959,-93.2754 145.063,-96.0209 154.7746,-100.256 155.2959,-93.2754\"/>\n</g>\n<!-- 140566039047376&#45;&gt;140566039047824 -->\n<g id=\"edge22\" class=\"edge\">\n<title>140566039047376&#45;&gt;140566039047824</title>\n<path fill=\"none\" stroke=\"#000000\" d=\"M453.003,-117C461.0277,-117 469.9665,-117 478.5309,-117\"/>\n<polygon fill=\"#000000\" stroke=\"#000000\" points=\"478.7051,-120.5001 488.705,-117 478.705,-113.5001 478.7051,-120.5001\"/>\n</g>\n<!-- 140566039045328&#45;&gt;140566039047952 -->\n<g id=\"edge23\" class=\"edge\">\n<title>140566039045328&#45;&gt;140566039047952</title>\n<path fill=\"none\" stroke=\"#000000\" d=\"M1848.2975,-90.6049C1856.3315,-92.6228 1865.484,-94.9216 1874.6784,-97.2308\"/>\n<polygon fill=\"#000000\" stroke=\"#000000\" points=\"1874.0693,-100.6865 1884.6207,-99.728 1875.7745,-93.8974 1874.0693,-100.6865\"/>\n</g>\n<!-- 140566039045328&#45;&gt;140566039046288 -->\n<g id=\"edge24\" class=\"edge\">\n<title>140566039045328&#45;&gt;140566039046288</title>\n<path fill=\"none\" stroke=\"#000000\" d=\"M1848.2975,-77.3951C1861.6305,-74.0463 1878.0442,-69.9238 1892.6171,-66.2636\"/>\n<polygon fill=\"#000000\" stroke=\"#000000\" points=\"1893.5054,-69.6493 1902.3515,-63.8187 1891.8001,-62.8602 1893.5054,-69.6493\"/>\n</g>\n<!-- 140566039045840&#45;&gt;140566039046096 -->\n<g id=\"edge26\" class=\"edge\">\n<title>140566039045840&#45;&gt;140566039046096</title>\n<path fill=\"none\" stroke=\"#000000\" d=\"M633.0614,-81C644.0669,-81 656.9653,-81 668.83,-81\"/>\n<polygon fill=\"#000000\" stroke=\"#000000\" points=\"668.917,-84.5001 678.9169,-81 668.9169,-77.5001 668.917,-84.5001\"/>\n</g>\n<!-- 140566039045840&#45;&gt;140566039046224 -->\n<g id=\"edge25\" class=\"edge\">\n<title>140566039045840&#45;&gt;140566039046224</title>\n<path fill=\"none\" stroke=\"#000000\" d=\"M629.9525,-68.0657C639.983,-62.6492 651.9539,-56.1849 663.3963,-50.006\"/>\n<polygon fill=\"#000000\" stroke=\"#000000\" points=\"665.2764,-52.9685 672.4124,-45.1373 661.9503,-46.8092 665.2764,-52.9685\"/>\n</g>\n</g>\n</svg>\n"
          },
          "metadata": {},
          "execution_count": 8
        }
      ]
    },
    {
      "cell_type": "markdown",
      "source": [
        "# Functions for debug and visualization"
      ],
      "metadata": {
        "id": "Nvn_1UjTL79D"
      }
    },
    {
      "cell_type": "code",
      "source": [
        "def print_my_marking(marking):\n",
        "  for place, tokens in marking.items():\n",
        "    if not tokens:\n",
        "      continue\n",
        "    print(f'in place {place}: ')\n",
        "    for token in tokens:\n",
        "      print(f'\\tdirect ancestors = {token.direct_ancestors}')"
      ],
      "metadata": {
        "id": "kRhkPns-L-N-"
      },
      "execution_count": 9,
      "outputs": []
    },
    {
      "cell_type": "code",
      "source": [
        "from pm4py.visualization.petri_net.common import visualize\n",
        "from copy import copy\n",
        "from copy import deepcopy\n",
        "\n",
        "def visualize_pairs(bad_segs_pairs, net, initial_marking, final_marking):\n",
        "  custom_net = deepcopy(net)\n",
        "  init_marking = copy_marking(initial_marking, custom_net)\n",
        "  final_marking = copy_marking(final_marking, custom_net)\n",
        "  \"\"\"\n",
        "  transition: {'color': ***, 'label': ***}\n",
        "  \"\"\"\n",
        "  decorations = {}\n",
        "  transitions_map = {}\n",
        "  for trans in custom_net.transitions:\n",
        "    transitions_map[trans.label] = trans\n",
        "\n",
        "  decorations = {}\n",
        "  i = 0\n",
        "  tot_pairs_cnt = sum([cnt for pair_name, cnt in bad_segs_pairs.items()])\n",
        "\n",
        "  for pair, cnt in bad_segs_pairs.items():\n",
        "    st, end = pair\n",
        "    i += 1\n",
        "    st = transitions_map[st]\n",
        "    end = transitions_map[end]\n",
        "    \n",
        "    # print(f'{st} -> {end}')\n",
        "\n",
        "    p = PetriNet.Place(f'pair{i}')\n",
        "    custom_net.places.add(p)\n",
        "    arc1 = PetriNet.Arc(st, p, 1)\n",
        "    arc2 = PetriNet.Arc(p, end, 1)\n",
        "    custom_net.arcs.add(arc1)\n",
        "    custom_net.arcs.add(arc2)\n",
        "\n",
        "    decorations[arc1] = {'color' : f'0.000 {0.5 + cnt / (2*tot_pairs_cnt)} 1.000'}\n",
        "    decorations[arc2] = {'color' : f'0.000 {0.5 + cnt / (2*tot_pairs_cnt)} 1.000'}\n",
        "    decorations[p] = {'color' : f'0.000 {0.5 + cnt / (2*tot_pairs_cnt)} 1.000', 'label' : ''}\n",
        "  \n",
        "  return visualize.apply(custom_net, init_marking, final_marking, decorations=decorations)"
      ],
      "metadata": {
        "id": "vXWLnaMzNL-g"
      },
      "execution_count": 10,
      "outputs": []
    },
    {
      "cell_type": "markdown",
      "source": [
        "# Finding the bad pairs"
      ],
      "metadata": {
        "id": "em5ZnDSjLShi"
      }
    },
    {
      "cell_type": "code",
      "source": [
        "from pm4py.algo.conformance.alignments.petri_net import algorithm as alignments\n",
        "parameters = {alignments.Variants.VERSION_STATE_EQUATION_A_STAR.value.Parameters.PARAM_ALIGNMENT_RESULT_IS_SYNC_PROD_AWARE: True}\n",
        "aligned_traces = alignments.apply_log(log_xes2, custom_net, custom_init_marking, custom_final_marking, parameters=parameters)"
      ],
      "metadata": {
        "colab": {
          "base_uri": "https://localhost:8080/",
          "height": 49,
          "referenced_widgets": [
            "85fb3b0b896445f7b67923e7ef5e9b5e",
            "239720e6c01942a3baa1aea3347fc7ad",
            "211f8bed36844671ae23eb47a157ee7f",
            "ba7b47a2d6a54e73a59b33021ebc8218",
            "676bbab810e14fa799d3a0524b933495",
            "5fa18f4568a54a66930f59843e3ea011",
            "8b02013aaa894c0ea203cced61e3705a",
            "6a01b22bf72f42f4af77db9be96592dd",
            "a5f8e4cbacca4559a930397a4c9d702a",
            "459d1354cce24c5f99c31da701b22cf1",
            "439c01ad5bde4209870341dab8f93ef4"
          ]
        },
        "id": "5VSysZedLUU3",
        "outputId": "bf5451d0-6fc9-467c-d15d-864d2f5b7c96"
      },
      "execution_count": 11,
      "outputs": [
        {
          "output_type": "display_data",
          "data": {
            "application/vnd.jupyter.widget-view+json": {
              "model_id": "85fb3b0b896445f7b67923e7ef5e9b5e",
              "version_minor": 0,
              "version_major": 2
            },
            "text/plain": [
              "aligning log, completed variants ::   0%|          | 0/77 [00:00<?, ?it/s]"
            ]
          },
          "metadata": {}
        }
      ]
    },
    {
      "cell_type": "code",
      "source": [
        "def format_alignment(alignment):\n",
        "  '''\n",
        "  'log': labels\n",
        "  'model': (label, name)\n",
        "  '''\n",
        "  log_steps = [labels[0] for names, labels in alignment]\n",
        "  model_steps = [(labels[1], names[1]) for names, labels in alignment]\n",
        "  data = {'log' : log_steps, 'model' : model_steps}\n",
        "  return data"
      ],
      "metadata": {
        "id": "JZhOFwr3LbKP"
      },
      "execution_count": 12,
      "outputs": []
    },
    {
      "cell_type": "code",
      "source": [
        "class my_token:\n",
        "  def __init__(self):\n",
        "    self.direct_ancestors = set()  # just ancestors\n",
        "    self.red_ancestors = set()    # ancestors before bad transitions\n",
        "    # self.moved_as_red = False\n",
        "    # self.color = 'white'"
      ],
      "metadata": {
        "id": "AxYoHlcUMBy1"
      },
      "execution_count": 13,
      "outputs": []
    },
    {
      "cell_type": "code",
      "source": [
        "from pm4py.algo.conformance.tokenreplay import algorithm as token_replay\n",
        "from copy import copy\n",
        "\n",
        "DEBUG = False\n",
        "\n",
        "def find_bad_pairs(net: PetriNet, alignment, initial_marking):\n",
        "  '''\n",
        "  alignment for one trace\n",
        "            must be formatted\n",
        "  '''\n",
        "\n",
        "  bad_pairs = {}  # pair : cnt\n",
        "\n",
        "  marking = {} # place -> [tokens]\n",
        "  for plc in net.places:\n",
        "    marking[plc] = []\n",
        "\n",
        "  for place, cnt in initial_marking.items():\n",
        "    marking[place] = [my_token()] * cnt\n",
        "\n",
        "  if DEBUG:\n",
        "    print_my_marking(marking)\n",
        "\n",
        "  for i in range(len(alignment['model'])):\n",
        "    model_label, model_name = alignment['model'][i]\n",
        "    log_label = alignment['log'][i]\n",
        "\n",
        "    if model_label != '>>':   # fired transition\n",
        "      # find transition\n",
        "      fired_transition = None\n",
        "      for t in net.transitions:\n",
        "        if t.name == model_name:\n",
        "          fired_transition = t\n",
        "          break\n",
        "      if DEBUG:\n",
        "        print(f'fired transition: {fired_transition}')\n",
        "      \n",
        "      consumed_tokens = []\n",
        "      # consume tokens\n",
        "      for in_arc in fired_transition.in_arcs:\n",
        "        in_plc = in_arc.source\n",
        "        consumed_tokens.append(marking[in_plc].pop(0))\n",
        "\n",
        "      # unite lists\n",
        "      union_token = my_token()\n",
        "      for token in consumed_tokens:\n",
        "        union_token.red_ancestors = set.union(union_token.red_ancestors, token.red_ancestors)\n",
        "        union_token.direct_ancestors = set.union(union_token.direct_ancestors, token.direct_ancestors)\n",
        "\n",
        "      if model_label is None:         # hidden transition\n",
        "        # just save the condition\n",
        "        pass\n",
        "      elif model_label == log_label:  # sync move\n",
        "        for red_ancestor in union_token.red_ancestors: # add a pair of transitions\n",
        "          pair = (red_ancestor, fired_transition.label)\n",
        "          if DEBUG:\n",
        "            print(f'added bad pair:\\t{pair}')\n",
        "          if pair in bad_pairs:\n",
        "            bad_pairs[pair] += 1\n",
        "          else:\n",
        "            bad_pairs[pair] = 1\n",
        "        union_token.red_ancestors = set()\n",
        "        union_token.direct_ancestors = set([fired_transition.label])\n",
        "      elif log_label == '>>':         # model-only move\n",
        "        union_token.red_ancestors = set.union(union_token.red_ancestors, union_token.direct_ancestors)\n",
        "\n",
        "      # produce tokens\n",
        "      for out_arc in fired_transition.out_arcs:\n",
        "        out_plc = out_arc.target\n",
        "        marking[out_plc].append(copy(union_token))\n",
        "\n",
        "      if DEBUG:\n",
        "        print_my_marking(marking)\n",
        "    else: # log-only move\n",
        "      pass\n",
        "\n",
        "  return bad_pairs"
      ],
      "metadata": {
        "id": "MJjAoxXOLrJl"
      },
      "execution_count": 16,
      "outputs": []
    },
    {
      "cell_type": "code",
      "source": [
        "bad_pairs = {}\n",
        "\n",
        "for aligned_trace in aligned_traces:\n",
        "  alignment = format_alignment(aligned_trace['alignment'])\n",
        "  cur_bad_pairs = find_bad_pairs(custom_net, alignment, custom_init_marking)\n",
        "  for plc, cnt in cur_bad_pairs.items():\n",
        "    if plc in bad_pairs:\n",
        "      bad_pairs[plc] += cnt\n",
        "    else:\n",
        "      bad_pairs[plc] = cnt"
      ],
      "metadata": {
        "id": "R0qmSF5tMjNP"
      },
      "execution_count": 17,
      "outputs": []
    },
    {
      "cell_type": "code",
      "source": [
        "viz = visualize_pairs(bad_pairs, custom_net, custom_init_marking, custom_final_marking)\n",
        "pn_visualizer.save(viz, 'bad_pairs.png')\n",
        "# \"плохая\" пара будет выделена с помощью добавленной красной позиции и рёбер, соединяющих вершины пары с ней"
      ],
      "metadata": {
        "id": "_-cPosBlNfbl"
      },
      "execution_count": 18,
      "outputs": []
    }
  ]
}